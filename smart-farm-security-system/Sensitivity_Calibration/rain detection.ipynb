{
 "cells": [
  {
   "cell_type": "code",
   "execution_count": 1,
   "id": "6b263199",
   "metadata": {},
   "outputs": [],
   "source": [
    "import numpy as np\n",
    "import pandas as pd\n",
    "import matplotlib.pyplot as plt\n",
    "import seaborn as sns"
   ]
  },
  {
   "cell_type": "code",
   "execution_count": 2,
   "id": "eff37a3c",
   "metadata": {},
   "outputs": [],
   "source": [
    "data = pd.read_csv('SriLanka_Weather_Dataset_NEW.csv', encoding='latin-1')"
   ]
  },
  {
   "cell_type": "code",
   "execution_count": 3,
   "id": "de92bf22",
   "metadata": {},
   "outputs": [
    {
     "data": {
      "text/html": [
       "<div>\n",
       "<style scoped>\n",
       "    .dataframe tbody tr th:only-of-type {\n",
       "        vertical-align: middle;\n",
       "    }\n",
       "\n",
       "    .dataframe tbody tr th {\n",
       "        vertical-align: top;\n",
       "    }\n",
       "\n",
       "    .dataframe thead th {\n",
       "        text-align: right;\n",
       "    }\n",
       "</style>\n",
       "<table border=\"1\" class=\"dataframe\">\n",
       "  <thead>\n",
       "    <tr style=\"text-align: right;\">\n",
       "      <th></th>\n",
       "      <th>time</th>\n",
       "      <th>weathercode</th>\n",
       "      <th>temperature_2m_max</th>\n",
       "      <th>temperature_2m_min</th>\n",
       "      <th>temperature_2m_mean</th>\n",
       "      <th>apparent_temperature_max</th>\n",
       "      <th>apparent_temperature_min</th>\n",
       "      <th>apparent_temperature_mean</th>\n",
       "      <th>sunrise</th>\n",
       "      <th>sunset</th>\n",
       "      <th>...</th>\n",
       "      <th>winddirection_10m_dominant</th>\n",
       "      <th>Humidity %</th>\n",
       "      <th>moisture0</th>\n",
       "      <th>moisture1</th>\n",
       "      <th>moisture2</th>\n",
       "      <th>latitude</th>\n",
       "      <th>longitude</th>\n",
       "      <th>elevation</th>\n",
       "      <th>country</th>\n",
       "      <th>city</th>\n",
       "    </tr>\n",
       "  </thead>\n",
       "  <tbody>\n",
       "    <tr>\n",
       "      <th>0</th>\n",
       "      <td>1/1/2018</td>\n",
       "      <td>51</td>\n",
       "      <td>30.9</td>\n",
       "      <td>23.0</td>\n",
       "      <td>26.5</td>\n",
       "      <td>35.2</td>\n",
       "      <td>26.9</td>\n",
       "      <td>30.7</td>\n",
       "      <td>2018-01-01T00:52</td>\n",
       "      <td>2018-01-01T12:35</td>\n",
       "      <td>...</td>\n",
       "      <td>316</td>\n",
       "      <td>44.3</td>\n",
       "      <td>0.70</td>\n",
       "      <td>0.64</td>\n",
       "      <td>0.73</td>\n",
       "      <td>7</td>\n",
       "      <td>79.899994</td>\n",
       "      <td>16</td>\n",
       "      <td>Sri Lanka</td>\n",
       "      <td>Colombo</td>\n",
       "    </tr>\n",
       "    <tr>\n",
       "      <th>1</th>\n",
       "      <td>1/2/2018</td>\n",
       "      <td>51</td>\n",
       "      <td>30.7</td>\n",
       "      <td>23.0</td>\n",
       "      <td>27.0</td>\n",
       "      <td>35.5</td>\n",
       "      <td>27.0</td>\n",
       "      <td>31.1</td>\n",
       "      <td>2018-01-02T00:52</td>\n",
       "      <td>2018-01-02T12:36</td>\n",
       "      <td>...</td>\n",
       "      <td>252</td>\n",
       "      <td>44.0</td>\n",
       "      <td>0.70</td>\n",
       "      <td>0.64</td>\n",
       "      <td>0.71</td>\n",
       "      <td>7</td>\n",
       "      <td>79.899994</td>\n",
       "      <td>16</td>\n",
       "      <td>Sri Lanka</td>\n",
       "      <td>Colombo</td>\n",
       "    </tr>\n",
       "    <tr>\n",
       "      <th>2</th>\n",
       "      <td>1/3/2018</td>\n",
       "      <td>2</td>\n",
       "      <td>31.3</td>\n",
       "      <td>23.1</td>\n",
       "      <td>27.3</td>\n",
       "      <td>35.0</td>\n",
       "      <td>26.2</td>\n",
       "      <td>30.9</td>\n",
       "      <td>2018-01-03T00:53</td>\n",
       "      <td>2018-01-03T12:36</td>\n",
       "      <td>...</td>\n",
       "      <td>348</td>\n",
       "      <td>43.8</td>\n",
       "      <td>0.69</td>\n",
       "      <td>0.63</td>\n",
       "      <td>0.70</td>\n",
       "      <td>7</td>\n",
       "      <td>79.899994</td>\n",
       "      <td>16</td>\n",
       "      <td>Sri Lanka</td>\n",
       "      <td>Colombo</td>\n",
       "    </tr>\n",
       "    <tr>\n",
       "      <th>3</th>\n",
       "      <td>1/4/2018</td>\n",
       "      <td>2</td>\n",
       "      <td>32.0</td>\n",
       "      <td>22.7</td>\n",
       "      <td>27.2</td>\n",
       "      <td>35.3</td>\n",
       "      <td>24.9</td>\n",
       "      <td>29.3</td>\n",
       "      <td>2018-01-04T00:53</td>\n",
       "      <td>2018-01-04T12:37</td>\n",
       "      <td>...</td>\n",
       "      <td>9</td>\n",
       "      <td>52.0</td>\n",
       "      <td>0.69</td>\n",
       "      <td>0.63</td>\n",
       "      <td>0.70</td>\n",
       "      <td>7</td>\n",
       "      <td>79.899994</td>\n",
       "      <td>16</td>\n",
       "      <td>Sri Lanka</td>\n",
       "      <td>Colombo</td>\n",
       "    </tr>\n",
       "    <tr>\n",
       "      <th>4</th>\n",
       "      <td>1/5/2018</td>\n",
       "      <td>1</td>\n",
       "      <td>30.2</td>\n",
       "      <td>22.0</td>\n",
       "      <td>25.8</td>\n",
       "      <td>31.0</td>\n",
       "      <td>22.3</td>\n",
       "      <td>26.5</td>\n",
       "      <td>2018-01-05T00:53</td>\n",
       "      <td>2018-01-05T12:37</td>\n",
       "      <td>...</td>\n",
       "      <td>15</td>\n",
       "      <td>58.3</td>\n",
       "      <td>0.69</td>\n",
       "      <td>0.62</td>\n",
       "      <td>0.69</td>\n",
       "      <td>7</td>\n",
       "      <td>79.899994</td>\n",
       "      <td>16</td>\n",
       "      <td>Sri Lanka</td>\n",
       "      <td>Colombo</td>\n",
       "    </tr>\n",
       "    <tr>\n",
       "      <th>...</th>\n",
       "      <td>...</td>\n",
       "      <td>...</td>\n",
       "      <td>...</td>\n",
       "      <td>...</td>\n",
       "      <td>...</td>\n",
       "      <td>...</td>\n",
       "      <td>...</td>\n",
       "      <td>...</td>\n",
       "      <td>...</td>\n",
       "      <td>...</td>\n",
       "      <td>...</td>\n",
       "      <td>...</td>\n",
       "      <td>...</td>\n",
       "      <td>...</td>\n",
       "      <td>...</td>\n",
       "      <td>...</td>\n",
       "      <td>...</td>\n",
       "      <td>...</td>\n",
       "      <td>...</td>\n",
       "      <td>...</td>\n",
       "      <td>...</td>\n",
       "    </tr>\n",
       "    <tr>\n",
       "      <th>1989</th>\n",
       "      <td>6/13/2023</td>\n",
       "      <td>63</td>\n",
       "      <td>29.5</td>\n",
       "      <td>25.2</td>\n",
       "      <td>27.0</td>\n",
       "      <td>35.4</td>\n",
       "      <td>29.9</td>\n",
       "      <td>32.2</td>\n",
       "      <td>2023-06-13T00:24</td>\n",
       "      <td>2023-06-13T12:56</td>\n",
       "      <td>...</td>\n",
       "      <td>257</td>\n",
       "      <td>34.4</td>\n",
       "      <td>0.49</td>\n",
       "      <td>0.68</td>\n",
       "      <td>0.71</td>\n",
       "      <td>7</td>\n",
       "      <td>79.899994</td>\n",
       "      <td>16</td>\n",
       "      <td>Sri Lanka</td>\n",
       "      <td>Colombo</td>\n",
       "    </tr>\n",
       "    <tr>\n",
       "      <th>1990</th>\n",
       "      <td>6/14/2023</td>\n",
       "      <td>63</td>\n",
       "      <td>29.2</td>\n",
       "      <td>25.9</td>\n",
       "      <td>27.4</td>\n",
       "      <td>34.4</td>\n",
       "      <td>31.1</td>\n",
       "      <td>32.8</td>\n",
       "      <td>2023-06-14T00:25</td>\n",
       "      <td>2023-06-14T12:56</td>\n",
       "      <td>...</td>\n",
       "      <td>260</td>\n",
       "      <td>27.5</td>\n",
       "      <td>0.49</td>\n",
       "      <td>0.68</td>\n",
       "      <td>0.71</td>\n",
       "      <td>7</td>\n",
       "      <td>79.899994</td>\n",
       "      <td>16</td>\n",
       "      <td>Sri Lanka</td>\n",
       "      <td>Colombo</td>\n",
       "    </tr>\n",
       "    <tr>\n",
       "      <th>1991</th>\n",
       "      <td>6/15/2023</td>\n",
       "      <td>53</td>\n",
       "      <td>29.8</td>\n",
       "      <td>26.4</td>\n",
       "      <td>27.8</td>\n",
       "      <td>36.6</td>\n",
       "      <td>32.2</td>\n",
       "      <td>33.7</td>\n",
       "      <td>2023-06-15T00:25</td>\n",
       "      <td>2023-06-15T12:56</td>\n",
       "      <td>...</td>\n",
       "      <td>250</td>\n",
       "      <td>31.4</td>\n",
       "      <td>0.49</td>\n",
       "      <td>0.68</td>\n",
       "      <td>0.71</td>\n",
       "      <td>7</td>\n",
       "      <td>79.899994</td>\n",
       "      <td>16</td>\n",
       "      <td>Sri Lanka</td>\n",
       "      <td>Colombo</td>\n",
       "    </tr>\n",
       "    <tr>\n",
       "      <th>1992</th>\n",
       "      <td>6/16/2023</td>\n",
       "      <td>55</td>\n",
       "      <td>30.2</td>\n",
       "      <td>26.5</td>\n",
       "      <td>28.2</td>\n",
       "      <td>35.7</td>\n",
       "      <td>31.2</td>\n",
       "      <td>33.0</td>\n",
       "      <td>2023-06-16T00:25</td>\n",
       "      <td>2023-06-16T12:56</td>\n",
       "      <td>...</td>\n",
       "      <td>254</td>\n",
       "      <td>38.9</td>\n",
       "      <td>0.49</td>\n",
       "      <td>0.68</td>\n",
       "      <td>0.71</td>\n",
       "      <td>7</td>\n",
       "      <td>79.899994</td>\n",
       "      <td>16</td>\n",
       "      <td>Sri Lanka</td>\n",
       "      <td>Colombo</td>\n",
       "    </tr>\n",
       "    <tr>\n",
       "      <th>1993</th>\n",
       "      <td>6/17/2023</td>\n",
       "      <td>53</td>\n",
       "      <td>29.6</td>\n",
       "      <td>26.3</td>\n",
       "      <td>27.4</td>\n",
       "      <td>35.3</td>\n",
       "      <td>31.2</td>\n",
       "      <td>32.5</td>\n",
       "      <td>2023-06-17T00:25</td>\n",
       "      <td>2023-06-17T12:57</td>\n",
       "      <td>...</td>\n",
       "      <td>253</td>\n",
       "      <td>30.8</td>\n",
       "      <td>0.49</td>\n",
       "      <td>0.68</td>\n",
       "      <td>0.71</td>\n",
       "      <td>7</td>\n",
       "      <td>79.899994</td>\n",
       "      <td>16</td>\n",
       "      <td>Sri Lanka</td>\n",
       "      <td>Colombo</td>\n",
       "    </tr>\n",
       "  </tbody>\n",
       "</table>\n",
       "<p>1994 rows × 25 columns</p>\n",
       "</div>"
      ],
      "text/plain": [
       "           time  weathercode  temperature_2m_max  temperature_2m_min  \\\n",
       "0      1/1/2018           51                30.9                23.0   \n",
       "1      1/2/2018           51                30.7                23.0   \n",
       "2      1/3/2018            2                31.3                23.1   \n",
       "3      1/4/2018            2                32.0                22.7   \n",
       "4      1/5/2018            1                30.2                22.0   \n",
       "...         ...          ...                 ...                 ...   \n",
       "1989  6/13/2023           63                29.5                25.2   \n",
       "1990  6/14/2023           63                29.2                25.9   \n",
       "1991  6/15/2023           53                29.8                26.4   \n",
       "1992  6/16/2023           55                30.2                26.5   \n",
       "1993  6/17/2023           53                29.6                26.3   \n",
       "\n",
       "      temperature_2m_mean  apparent_temperature_max  apparent_temperature_min  \\\n",
       "0                    26.5                      35.2                      26.9   \n",
       "1                    27.0                      35.5                      27.0   \n",
       "2                    27.3                      35.0                      26.2   \n",
       "3                    27.2                      35.3                      24.9   \n",
       "4                    25.8                      31.0                      22.3   \n",
       "...                   ...                       ...                       ...   \n",
       "1989                 27.0                      35.4                      29.9   \n",
       "1990                 27.4                      34.4                      31.1   \n",
       "1991                 27.8                      36.6                      32.2   \n",
       "1992                 28.2                      35.7                      31.2   \n",
       "1993                 27.4                      35.3                      31.2   \n",
       "\n",
       "      apparent_temperature_mean           sunrise            sunset  ...  \\\n",
       "0                          30.7  2018-01-01T00:52  2018-01-01T12:35  ...   \n",
       "1                          31.1  2018-01-02T00:52  2018-01-02T12:36  ...   \n",
       "2                          30.9  2018-01-03T00:53  2018-01-03T12:36  ...   \n",
       "3                          29.3  2018-01-04T00:53  2018-01-04T12:37  ...   \n",
       "4                          26.5  2018-01-05T00:53  2018-01-05T12:37  ...   \n",
       "...                         ...               ...               ...  ...   \n",
       "1989                       32.2  2023-06-13T00:24  2023-06-13T12:56  ...   \n",
       "1990                       32.8  2023-06-14T00:25  2023-06-14T12:56  ...   \n",
       "1991                       33.7  2023-06-15T00:25  2023-06-15T12:56  ...   \n",
       "1992                       33.0  2023-06-16T00:25  2023-06-16T12:56  ...   \n",
       "1993                       32.5  2023-06-17T00:25  2023-06-17T12:57  ...   \n",
       "\n",
       "      winddirection_10m_dominant  Humidity %  moisture0  moisture1  moisture2  \\\n",
       "0                            316        44.3       0.70       0.64       0.73   \n",
       "1                            252        44.0       0.70       0.64       0.71   \n",
       "2                            348        43.8       0.69       0.63       0.70   \n",
       "3                              9        52.0       0.69       0.63       0.70   \n",
       "4                             15        58.3       0.69       0.62       0.69   \n",
       "...                          ...         ...        ...        ...        ...   \n",
       "1989                         257        34.4       0.49       0.68       0.71   \n",
       "1990                         260        27.5       0.49       0.68       0.71   \n",
       "1991                         250        31.4       0.49       0.68       0.71   \n",
       "1992                         254        38.9       0.49       0.68       0.71   \n",
       "1993                         253        30.8       0.49       0.68       0.71   \n",
       "\n",
       "      latitude  longitude  elevation    country     city  \n",
       "0            7  79.899994         16  Sri Lanka  Colombo  \n",
       "1            7  79.899994         16  Sri Lanka  Colombo  \n",
       "2            7  79.899994         16  Sri Lanka  Colombo  \n",
       "3            7  79.899994         16  Sri Lanka  Colombo  \n",
       "4            7  79.899994         16  Sri Lanka  Colombo  \n",
       "...        ...        ...        ...        ...      ...  \n",
       "1989         7  79.899994         16  Sri Lanka  Colombo  \n",
       "1990         7  79.899994         16  Sri Lanka  Colombo  \n",
       "1991         7  79.899994         16  Sri Lanka  Colombo  \n",
       "1992         7  79.899994         16  Sri Lanka  Colombo  \n",
       "1993         7  79.899994         16  Sri Lanka  Colombo  \n",
       "\n",
       "[1994 rows x 25 columns]"
      ]
     },
     "execution_count": 3,
     "metadata": {},
     "output_type": "execute_result"
    }
   ],
   "source": [
    "data"
   ]
  },
  {
   "cell_type": "code",
   "execution_count": 4,
   "id": "8cc6fc3a",
   "metadata": {},
   "outputs": [
    {
     "name": "stdout",
     "output_type": "stream",
     "text": [
      "<class 'pandas.core.frame.DataFrame'>\n",
      "RangeIndex: 1994 entries, 0 to 1993\n",
      "Data columns (total 25 columns):\n",
      " #   Column                      Non-Null Count  Dtype  \n",
      "---  ------                      --------------  -----  \n",
      " 0   time                        1994 non-null   object \n",
      " 1   weathercode                 1994 non-null   int64  \n",
      " 2   temperature_2m_max          1994 non-null   float64\n",
      " 3   temperature_2m_min          1994 non-null   float64\n",
      " 4   temperature_2m_mean         1994 non-null   float64\n",
      " 5   apparent_temperature_max    1994 non-null   float64\n",
      " 6   apparent_temperature_min    1994 non-null   float64\n",
      " 7   apparent_temperature_mean   1994 non-null   float64\n",
      " 8   sunrise                     1994 non-null   object \n",
      " 9   sunset                      1994 non-null   object \n",
      " 10  precipitation_sum           1994 non-null   float64\n",
      " 11  rain_sum                    1994 non-null   float64\n",
      " 12  precipitation_hours         1994 non-null   int64  \n",
      " 13  windspeed_10m_max           1994 non-null   float64\n",
      " 14  windgusts_10m_max           1994 non-null   float64\n",
      " 15  winddirection_10m_dominant  1994 non-null   int64  \n",
      " 16  Humidity %                  1994 non-null   float64\n",
      " 17  moisture0                   1994 non-null   float64\n",
      " 18  moisture1                   1994 non-null   float64\n",
      " 19  moisture2                   1994 non-null   float64\n",
      " 20  latitude                    1994 non-null   int64  \n",
      " 21  longitude                   1994 non-null   float64\n",
      " 22  elevation                   1994 non-null   int64  \n",
      " 23  country                     1994 non-null   object \n",
      " 24  city                        1994 non-null   object \n",
      "dtypes: float64(15), int64(5), object(5)\n",
      "memory usage: 389.6+ KB\n"
     ]
    }
   ],
   "source": [
    "data.info()"
   ]
  },
  {
   "cell_type": "code",
   "execution_count": 5,
   "id": "52f51fe3",
   "metadata": {},
   "outputs": [],
   "source": [
    "data = data[['temperature_2m_mean','rain_sum','windspeed_10m_max', 'Humidity %', 'moisture0', 'weathercode']]"
   ]
  },
  {
   "cell_type": "code",
   "execution_count": 6,
   "id": "27e412fa",
   "metadata": {},
   "outputs": [
    {
     "data": {
      "text/html": [
       "<div>\n",
       "<style scoped>\n",
       "    .dataframe tbody tr th:only-of-type {\n",
       "        vertical-align: middle;\n",
       "    }\n",
       "\n",
       "    .dataframe tbody tr th {\n",
       "        vertical-align: top;\n",
       "    }\n",
       "\n",
       "    .dataframe thead th {\n",
       "        text-align: right;\n",
       "    }\n",
       "</style>\n",
       "<table border=\"1\" class=\"dataframe\">\n",
       "  <thead>\n",
       "    <tr style=\"text-align: right;\">\n",
       "      <th></th>\n",
       "      <th>temperature_2m_mean</th>\n",
       "      <th>rain_sum</th>\n",
       "      <th>windspeed_10m_max</th>\n",
       "      <th>Humidity %</th>\n",
       "      <th>moisture0</th>\n",
       "      <th>weathercode</th>\n",
       "    </tr>\n",
       "  </thead>\n",
       "  <tbody>\n",
       "    <tr>\n",
       "      <th>0</th>\n",
       "      <td>26.5</td>\n",
       "      <td>0.1</td>\n",
       "      <td>10.0</td>\n",
       "      <td>44.3</td>\n",
       "      <td>0.70</td>\n",
       "      <td>51</td>\n",
       "    </tr>\n",
       "    <tr>\n",
       "      <th>1</th>\n",
       "      <td>27.0</td>\n",
       "      <td>0.4</td>\n",
       "      <td>9.2</td>\n",
       "      <td>44.0</td>\n",
       "      <td>0.70</td>\n",
       "      <td>51</td>\n",
       "    </tr>\n",
       "    <tr>\n",
       "      <th>2</th>\n",
       "      <td>27.3</td>\n",
       "      <td>0.0</td>\n",
       "      <td>11.0</td>\n",
       "      <td>43.8</td>\n",
       "      <td>0.69</td>\n",
       "      <td>2</td>\n",
       "    </tr>\n",
       "    <tr>\n",
       "      <th>3</th>\n",
       "      <td>27.2</td>\n",
       "      <td>0.0</td>\n",
       "      <td>11.4</td>\n",
       "      <td>52.0</td>\n",
       "      <td>0.69</td>\n",
       "      <td>2</td>\n",
       "    </tr>\n",
       "    <tr>\n",
       "      <th>4</th>\n",
       "      <td>25.8</td>\n",
       "      <td>0.0</td>\n",
       "      <td>17.0</td>\n",
       "      <td>58.3</td>\n",
       "      <td>0.69</td>\n",
       "      <td>1</td>\n",
       "    </tr>\n",
       "    <tr>\n",
       "      <th>...</th>\n",
       "      <td>...</td>\n",
       "      <td>...</td>\n",
       "      <td>...</td>\n",
       "      <td>...</td>\n",
       "      <td>...</td>\n",
       "      <td>...</td>\n",
       "    </tr>\n",
       "    <tr>\n",
       "      <th>1989</th>\n",
       "      <td>27.0</td>\n",
       "      <td>18.1</td>\n",
       "      <td>16.2</td>\n",
       "      <td>34.4</td>\n",
       "      <td>0.49</td>\n",
       "      <td>63</td>\n",
       "    </tr>\n",
       "    <tr>\n",
       "      <th>1990</th>\n",
       "      <td>27.4</td>\n",
       "      <td>8.9</td>\n",
       "      <td>17.7</td>\n",
       "      <td>27.5</td>\n",
       "      <td>0.49</td>\n",
       "      <td>63</td>\n",
       "    </tr>\n",
       "    <tr>\n",
       "      <th>1991</th>\n",
       "      <td>27.8</td>\n",
       "      <td>3.9</td>\n",
       "      <td>13.2</td>\n",
       "      <td>31.4</td>\n",
       "      <td>0.49</td>\n",
       "      <td>53</td>\n",
       "    </tr>\n",
       "    <tr>\n",
       "      <th>1992</th>\n",
       "      <td>28.2</td>\n",
       "      <td>6.0</td>\n",
       "      <td>21.3</td>\n",
       "      <td>38.9</td>\n",
       "      <td>0.49</td>\n",
       "      <td>55</td>\n",
       "    </tr>\n",
       "    <tr>\n",
       "      <th>1993</th>\n",
       "      <td>27.4</td>\n",
       "      <td>3.4</td>\n",
       "      <td>17.8</td>\n",
       "      <td>30.8</td>\n",
       "      <td>0.49</td>\n",
       "      <td>53</td>\n",
       "    </tr>\n",
       "  </tbody>\n",
       "</table>\n",
       "<p>1994 rows × 6 columns</p>\n",
       "</div>"
      ],
      "text/plain": [
       "      temperature_2m_mean  rain_sum  windspeed_10m_max  Humidity %  moisture0  \\\n",
       "0                    26.5       0.1               10.0        44.3       0.70   \n",
       "1                    27.0       0.4                9.2        44.0       0.70   \n",
       "2                    27.3       0.0               11.0        43.8       0.69   \n",
       "3                    27.2       0.0               11.4        52.0       0.69   \n",
       "4                    25.8       0.0               17.0        58.3       0.69   \n",
       "...                   ...       ...                ...         ...        ...   \n",
       "1989                 27.0      18.1               16.2        34.4       0.49   \n",
       "1990                 27.4       8.9               17.7        27.5       0.49   \n",
       "1991                 27.8       3.9               13.2        31.4       0.49   \n",
       "1992                 28.2       6.0               21.3        38.9       0.49   \n",
       "1993                 27.4       3.4               17.8        30.8       0.49   \n",
       "\n",
       "      weathercode  \n",
       "0              51  \n",
       "1              51  \n",
       "2               2  \n",
       "3               2  \n",
       "4               1  \n",
       "...           ...  \n",
       "1989           63  \n",
       "1990           63  \n",
       "1991           53  \n",
       "1992           55  \n",
       "1993           53  \n",
       "\n",
       "[1994 rows x 6 columns]"
      ]
     },
     "execution_count": 6,
     "metadata": {},
     "output_type": "execute_result"
    }
   ],
   "source": [
    "data"
   ]
  },
  {
   "cell_type": "code",
   "execution_count": 7,
   "id": "8a82e0d7",
   "metadata": {},
   "outputs": [
    {
     "data": {
      "text/plain": [
       "<Axes: >"
      ]
     },
     "execution_count": 7,
     "metadata": {},
     "output_type": "execute_result"
    },
    {
     "data": {
      "image/png": "[encoded data removed]",
      "text/plain": [
       "<Figure size 640x480 with 2 Axes>"
      ]
     },
     "metadata": {},
     "output_type": "display_data"
    }
   ],
   "source": [
    "sns.heatmap(data.isnull(),yticklabels=False, cmap=\"viridis\")"
   ]
  },
  {
   "cell_type": "code",
   "execution_count": 25,
   "id": "35d71e66",
   "metadata": {},
   "outputs": [],
   "source": [
    "#data = data.dropna()"
   ]
  },
  {
   "cell_type": "code",
   "execution_count": 26,
   "id": "3105f2f9",
   "metadata": {},
   "outputs": [],
   "source": [
    "#sns.heatmap(data.isnull(),yticklabels=False, cmap=\"viridis\")"
   ]
  },
  {
   "cell_type": "code",
   "execution_count": 8,
   "id": "6b062f02",
   "metadata": {},
   "outputs": [
    {
     "data": {
      "text/plain": [
       "51    476\n",
       "63    442\n",
       "61    371\n",
       "53    303\n",
       "55    121\n",
       "2     115\n",
       "1      76\n",
       "65     46\n",
       "3      40\n",
       "0       4\n",
       "Name: weathercode, dtype: int64"
      ]
     },
     "execution_count": 8,
     "metadata": {},
     "output_type": "execute_result"
    }
   ],
   "source": [
    "data['weathercode'].value_counts()"
   ]
  },
  {
   "cell_type": "code",
   "execution_count": 9,
   "id": "825e58d9",
   "metadata": {},
   "outputs": [],
   "source": [
    "X = data.drop('weathercode', axis=1)\n",
    "y = data['weathercode']"
   ]
  },
  {
   "cell_type": "code",
   "execution_count": 10,
   "id": "e9e6519f",
   "metadata": {},
   "outputs": [],
   "source": [
    "from sklearn.svm import SVR\n",
    "from sklearn.model_selection import train_test_split\n",
    "from sklearn.preprocessing import StandardScaler\n",
    "from sklearn.metrics import mean_squared_error\n",
    "\n",
    "X_train, X_test, y_train, y_test = train_test_split(X, y, test_size=0.2, random_state=42)"
   ]
  },
  {
   "cell_type": "code",
   "execution_count": 11,
   "id": "a67195bc",
   "metadata": {},
   "outputs": [],
   "source": [
    "def model_score(model):\n",
    "    model.fit(X_train, y_train)\n",
    "    acc = model.score(X_test, y_test)\n",
    "    print(str(model)+ ' | ' +str(acc))"
   ]
  },
  {
   "cell_type": "code",
   "execution_count": 12,
   "id": "8a8c4067",
   "metadata": {},
   "outputs": [
    {
     "name": "stdout",
     "output_type": "stream",
     "text": [
      "KNeighborsClassifier(n_neighbors=3) | 0.48120300751879697\n",
      "LogisticRegression(max_iter=1000) | 0.6190476190476191\n",
      "SVC() | 0.556390977443609\n"
     ]
    },
    {
     "name": "stderr",
     "output_type": "stream",
     "text": [
      "C:\\Users\\Kalana\\anaconda3\\lib\\site-packages\\sklearn\\linear_model\\_logistic.py:458: ConvergenceWarning: lbfgs failed to converge (status=1):\n",
      "STOP: TOTAL NO. of ITERATIONS REACHED LIMIT.\n",
      "\n",
      "Increase the number of iterations (max_iter) or scale the data as shown in:\n",
      "    https://scikit-learn.org/stable/modules/preprocessing.html\n",
      "Please also refer to the documentation for alternative solver options:\n",
      "    https://scikit-learn.org/stable/modules/linear_model.html#logistic-regression\n",
      "  n_iter_i = _check_optimize_result(\n"
     ]
    }
   ],
   "source": [
    "from sklearn.neighbors import KNeighborsClassifier\n",
    "knn = KNeighborsClassifier(n_neighbors=3)\n",
    "model_score(knn)\n",
    "\n",
    "from sklearn.linear_model import LogisticRegression\n",
    "logreg = LogisticRegression(max_iter=1000)\n",
    "model_score(logreg)\n",
    "\n",
    "from sklearn.svm import SVC\n",
    "svm = SVC()\n",
    "model_score(svm)"
   ]
  },
  {
   "cell_type": "code",
   "execution_count": 14,
   "id": "aae057c2",
   "metadata": {},
   "outputs": [],
   "source": [
    "import pickle\n",
    "\n",
    "pickle.dump(logreg, open(\"w_model.dat\", \"wb\"))"
   ]
  },
  {
   "cell_type": "code",
   "execution_count": 15,
   "id": "c61546b4",
   "metadata": {},
   "outputs": [],
   "source": [
    "with open('w_model.dat' , 'rb') as f:\n",
    "    model = pickle.load(f)"
   ]
  },
  {
   "cell_type": "code",
   "execution_count": 16,
   "id": "5f02d5aa",
   "metadata": {},
   "outputs": [
    {
     "data": {
      "text/html": [
       "<div>\n",
       "<style scoped>\n",
       "    .dataframe tbody tr th:only-of-type {\n",
       "        vertical-align: middle;\n",
       "    }\n",
       "\n",
       "    .dataframe tbody tr th {\n",
       "        vertical-align: top;\n",
       "    }\n",
       "\n",
       "    .dataframe thead th {\n",
       "        text-align: right;\n",
       "    }\n",
       "</style>\n",
       "<table border=\"1\" class=\"dataframe\">\n",
       "  <thead>\n",
       "    <tr style=\"text-align: right;\">\n",
       "      <th></th>\n",
       "      <th>temperature_2m_mean</th>\n",
       "      <th>rain_sum</th>\n",
       "      <th>windspeed_10m_max</th>\n",
       "      <th>Humidity %</th>\n",
       "      <th>moisture0</th>\n",
       "    </tr>\n",
       "  </thead>\n",
       "  <tbody>\n",
       "    <tr>\n",
       "      <th>0</th>\n",
       "      <td>26.5</td>\n",
       "      <td>0.1</td>\n",
       "      <td>10.0</td>\n",
       "      <td>44.3</td>\n",
       "      <td>0.70</td>\n",
       "    </tr>\n",
       "    <tr>\n",
       "      <th>1</th>\n",
       "      <td>27.0</td>\n",
       "      <td>0.4</td>\n",
       "      <td>9.2</td>\n",
       "      <td>44.0</td>\n",
       "      <td>0.70</td>\n",
       "    </tr>\n",
       "    <tr>\n",
       "      <th>2</th>\n",
       "      <td>27.3</td>\n",
       "      <td>0.0</td>\n",
       "      <td>11.0</td>\n",
       "      <td>43.8</td>\n",
       "      <td>0.69</td>\n",
       "    </tr>\n",
       "    <tr>\n",
       "      <th>3</th>\n",
       "      <td>27.2</td>\n",
       "      <td>0.0</td>\n",
       "      <td>11.4</td>\n",
       "      <td>52.0</td>\n",
       "      <td>0.69</td>\n",
       "    </tr>\n",
       "    <tr>\n",
       "      <th>4</th>\n",
       "      <td>25.8</td>\n",
       "      <td>0.0</td>\n",
       "      <td>17.0</td>\n",
       "      <td>58.3</td>\n",
       "      <td>0.69</td>\n",
       "    </tr>\n",
       "    <tr>\n",
       "      <th>...</th>\n",
       "      <td>...</td>\n",
       "      <td>...</td>\n",
       "      <td>...</td>\n",
       "      <td>...</td>\n",
       "      <td>...</td>\n",
       "    </tr>\n",
       "    <tr>\n",
       "      <th>1989</th>\n",
       "      <td>27.0</td>\n",
       "      <td>18.1</td>\n",
       "      <td>16.2</td>\n",
       "      <td>34.4</td>\n",
       "      <td>0.49</td>\n",
       "    </tr>\n",
       "    <tr>\n",
       "      <th>1990</th>\n",
       "      <td>27.4</td>\n",
       "      <td>8.9</td>\n",
       "      <td>17.7</td>\n",
       "      <td>27.5</td>\n",
       "      <td>0.49</td>\n",
       "    </tr>\n",
       "    <tr>\n",
       "      <th>1991</th>\n",
       "      <td>27.8</td>\n",
       "      <td>3.9</td>\n",
       "      <td>13.2</td>\n",
       "      <td>31.4</td>\n",
       "      <td>0.49</td>\n",
       "    </tr>\n",
       "    <tr>\n",
       "      <th>1992</th>\n",
       "      <td>28.2</td>\n",
       "      <td>6.0</td>\n",
       "      <td>21.3</td>\n",
       "      <td>38.9</td>\n",
       "      <td>0.49</td>\n",
       "    </tr>\n",
       "    <tr>\n",
       "      <th>1993</th>\n",
       "      <td>27.4</td>\n",
       "      <td>3.4</td>\n",
       "      <td>17.8</td>\n",
       "      <td>30.8</td>\n",
       "      <td>0.49</td>\n",
       "    </tr>\n",
       "  </tbody>\n",
       "</table>\n",
       "<p>1994 rows × 5 columns</p>\n",
       "</div>"
      ],
      "text/plain": [
       "      temperature_2m_mean  rain_sum  windspeed_10m_max  Humidity %  moisture0\n",
       "0                    26.5       0.1               10.0        44.3       0.70\n",
       "1                    27.0       0.4                9.2        44.0       0.70\n",
       "2                    27.3       0.0               11.0        43.8       0.69\n",
       "3                    27.2       0.0               11.4        52.0       0.69\n",
       "4                    25.8       0.0               17.0        58.3       0.69\n",
       "...                   ...       ...                ...         ...        ...\n",
       "1989                 27.0      18.1               16.2        34.4       0.49\n",
       "1990                 27.4       8.9               17.7        27.5       0.49\n",
       "1991                 27.8       3.9               13.2        31.4       0.49\n",
       "1992                 28.2       6.0               21.3        38.9       0.49\n",
       "1993                 27.4       3.4               17.8        30.8       0.49\n",
       "\n",
       "[1994 rows x 5 columns]"
      ]
     },
     "execution_count": 16,
     "metadata": {},
     "output_type": "execute_result"
    }
   ],
   "source": [
    "X"
   ]
  },
  {
   "cell_type": "code",
   "execution_count": 17,
   "id": "43230128",
   "metadata": {},
   "outputs": [
    {
     "name": "stderr",
     "output_type": "stream",
     "text": [
      "C:\\Users\\Kalana\\anaconda3\\lib\\site-packages\\sklearn\\base.py:420: UserWarning: X does not have valid feature names, but LogisticRegression was fitted with feature names\n",
      "  warnings.warn(\n"
     ]
    },
    {
     "data": {
      "text/plain": [
       "array([51], dtype=int64)"
      ]
     },
     "execution_count": 17,
     "metadata": {},
     "output_type": "execute_result"
    }
   ],
   "source": [
    "model.predict([[26.5,0.1,10.0,44.3,0.70]])"
   ]
  },
  {
   "cell_type": "code",
   "execution_count": 18,
   "id": "08876712",
   "metadata": {},
   "outputs": [
    {
     "data": {
      "application/vnd.jupyter.widget-view+json": {
       "model_id": "6428238087a4468f99923dcc60954201",
       "version_major": 2,
       "version_minor": 0
      },
      "text/plain": [
       "FloatText(value=0.0, description='Temp (°C):')"
      ]
     },
     "metadata": {},
     "output_type": "display_data"
    },
    {
     "data": {
      "application/vnd.jupyter.widget-view+json": {
       "model_id": "1797a6fa6b38420f94eda6f3e9202d49",
       "version_major": 2,
       "version_minor": 0
      },
      "text/plain": [
       "FloatText(value=0.0, description='Rain (mm):')"
      ]
     },
     "metadata": {},
     "output_type": "display_data"
    },
    {
     "data": {
      "application/vnd.jupyter.widget-view+json": {
       "model_id": "87628ed52cf2442fbdc9266d8e4392c6",
       "version_major": 2,
       "version_minor": 0
      },
      "text/plain": [
       "FloatText(value=0.0, description='Windspeed (km/h):')"
      ]
     },
     "metadata": {},
     "output_type": "display_data"
    },
    {
     "data": {
      "application/vnd.jupyter.widget-view+json": {
       "model_id": "6fcb1e09322d4f008fe47ff4b83ce931",
       "version_major": 2,
       "version_minor": 0
      },
      "text/plain": [
       "IntText(value=0, description='Humidity (%):')"
      ]
     },
     "metadata": {},
     "output_type": "display_data"
    },
    {
     "data": {
      "application/vnd.jupyter.widget-view+json": {
       "model_id": "80e2a0da135b452b9d734b234b8639f1",
       "version_major": 2,
       "version_minor": 0
      },
      "text/plain": [
       "FloatText(value=0.0, description='Soil Moisture (%):')"
      ]
     },
     "metadata": {},
     "output_type": "display_data"
    },
    {
     "data": {
      "application/vnd.jupyter.widget-view+json": {
       "model_id": "e7c66cf3dfb14224bdff4d063b77951e",
       "version_major": 2,
       "version_minor": 0
      },
      "text/plain": [
       "Button(description='Predict', style=ButtonStyle())"
      ]
     },
     "metadata": {},
     "output_type": "display_data"
    },
    {
     "name": "stdout",
     "output_type": "stream",
     "text": [
      "Predicted Value: 1\n"
     ]
    },
    {
     "name": "stderr",
     "output_type": "stream",
     "text": [
      "C:\\Users\\Kalana\\anaconda3\\lib\\site-packages\\sklearn\\base.py:420: UserWarning: X does not have valid feature names, but LogisticRegression was fitted with feature names\n",
      "  warnings.warn(\n"
     ]
    },
    {
     "name": "stdout",
     "output_type": "stream",
     "text": [
      "Predicted Value: 51\n"
     ]
    },
    {
     "name": "stderr",
     "output_type": "stream",
     "text": [
      "C:\\Users\\Kalana\\anaconda3\\lib\\site-packages\\sklearn\\base.py:420: UserWarning: X does not have valid feature names, but LogisticRegression was fitted with feature names\n",
      "  warnings.warn(\n"
     ]
    },
    {
     "name": "stdout",
     "output_type": "stream",
     "text": [
      "Predicted Value: 51\n"
     ]
    },
    {
     "name": "stderr",
     "output_type": "stream",
     "text": [
      "C:\\Users\\Kalana\\anaconda3\\lib\\site-packages\\sklearn\\base.py:420: UserWarning: X does not have valid feature names, but LogisticRegression was fitted with feature names\n",
      "  warnings.warn(\n"
     ]
    },
    {
     "name": "stdout",
     "output_type": "stream",
     "text": [
      "Predicted Value: 51\n"
     ]
    },
    {
     "name": "stderr",
     "output_type": "stream",
     "text": [
      "C:\\Users\\Kalana\\anaconda3\\lib\\site-packages\\sklearn\\base.py:420: UserWarning: X does not have valid feature names, but LogisticRegression was fitted with feature names\n",
      "  warnings.warn(\n"
     ]
    },
    {
     "name": "stdout",
     "output_type": "stream",
     "text": [
      "Predicted Value: 1\n"
     ]
    },
    {
     "name": "stderr",
     "output_type": "stream",
     "text": [
      "C:\\Users\\Kalana\\anaconda3\\lib\\site-packages\\sklearn\\base.py:420: UserWarning: X does not have valid feature names, but LogisticRegression was fitted with feature names\n",
      "  warnings.warn(\n"
     ]
    }
   ],
   "source": [
    "import numpy as np\n",
    "import ipywidgets as widgets\n",
    "from IPython.display import display\n",
    "\n",
    "def get_user_input_with_dropdown():\n",
    "    temp = widgets.FloatText(value=0.0, description='Temp (°C):')\n",
    "    rain = widgets.FloatText(value=0.0, description='Rain (mm):')\n",
    "    windspeed = widgets.FloatText(value=0.0, description='Windspeed (km/h):')\n",
    "    humidity = widgets.IntText(value=0, description='Humidity (%):')\n",
    "    soil_moisture = widgets.FloatText(value=0.0, description='Soil Moisture (%):')\n",
    "    \n",
    "    display(temp, rain, windspeed, humidity, soil_moisture)\n",
    "    \n",
    "    def on_button_click(b):\n",
    "        temp_value = temp.value\n",
    "        rain_value = rain.value\n",
    "        windspeed_value = windspeed.value\n",
    "        humidity_value = humidity.value\n",
    "        soil_moisture_value = soil_moisture.value\n",
    "\n",
    "        # Combine the input data into a list of lists for prediction\n",
    "        user_data = [[temp_value, rain_value, windspeed_value, humidity_value, soil_moisture_value]]\n",
    "\n",
    "        # Assuming 'model' is a predefined model object\n",
    "        predicted_value = model.predict(user_data)\n",
    "\n",
    "        print(f'Predicted Value: {predicted_value[0]}')\n",
    "\n",
    "    button = widgets.Button(description=\"Predict\")\n",
    "    button.on_click(on_button_click)\n",
    "    display(button)\n",
    "\n",
    "get_user_input_with_dropdown()\n"
   ]
  },
  {
   "cell_type": "code",
   "execution_count": null,
   "id": "51b25b14",
   "metadata": {},
   "outputs": [],
   "source": []
  }
 ],
 "metadata": {
  "kernelspec": {
   "display_name": "Python 3 (ipykernel)",
   "language": "python",
   "name": "python3"
  },
  "language_info": {
   "codemirror_mode": {
    "name": "ipython",
    "version": 3
   },
   "file_extension": ".py",
   "mimetype": "text/x-python",
   "name": "python",
   "nbconvert_exporter": "python",
   "pygments_lexer": "ipython3",
   "version": "3.10.9"
  }
 },
 "nbformat": 4,
 "nbformat_minor": 5
}
